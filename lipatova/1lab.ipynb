{
 "cells": [
  {
   "cell_type": "code",
   "execution_count": 1,
   "metadata": {},
   "outputs": [],
   "source": [
    "import random\n",
    "import numpy as np"
   ]
  },
  {
   "cell_type": "code",
   "execution_count": 2,
   "metadata": {},
   "outputs": [
    {
     "name": "stdout",
     "output_type": "stream",
     "text": [
      "Array: [89, 89, 83, 7, 56, 60, 94, 47, 7, 27]\n",
      "Max Element: 94 at Index: 6\n"
     ]
    }
   ],
   "source": [
    "def task1():\n",
    "    array = [random.randint(1, 100) for _ in range(10)]\n",
    "    max_element = max(array)\n",
    "    max_index = array.index(max_element)\n",
    "    print(\"Array:\", array)\n",
    "    print(\"Max Element:\", max_element, \"at Index:\", max_index)\n",
    "task1()"
   ]
  },
  {
   "cell_type": "code",
   "execution_count": 3,
   "metadata": {},
   "outputs": [
    {
     "name": "stdout",
     "output_type": "stream",
     "text": [
      "Array: [21, 41, -31, -38, 1, -20, 49, -50, 15, -33]\n",
      "Sum of Even Positive Elements: 0\n"
     ]
    }
   ],
   "source": [
    "def task2():\n",
    "    array = [random.randint(-50, 50) for _ in range(10)]\n",
    "    even_positive_sum = sum(x for x in array if x > 0 and x % 2 == 0)\n",
    "    print(\"Array:\", array)\n",
    "    print(\"Sum of Even Positive Elements:\", even_positive_sum)\n",
    "task2()"
   ]
  },
  {
   "cell_type": "code",
   "execution_count": 4,
   "metadata": {},
   "outputs": [
    {
     "name": "stdout",
     "output_type": "stream",
     "text": [
      "Array: [8, 58, 94, 12, 54, 73, 77, 27, 21, 35]\n",
      "Average: 45.9\n",
      "Elements less than average: [8, 12, 27, 21, 35]\n"
     ]
    }
   ],
   "source": [
    "def task3():\n",
    "    array = [random.randint(1, 100) for _ in range(10)]\n",
    "    avg = sum(array) / len(array)\n",
    "    less_than_avg = [x for x in array if x < avg]\n",
    "    print(\"Array:\", array)\n",
    "    print(\"Average:\", avg)\n",
    "    print(\"Elements less than average:\", less_than_avg)\n",
    "task3()"
   ]
  },
  {
   "cell_type": "code",
   "execution_count": 5,
   "metadata": {},
   "outputs": [
    {
     "name": "stdout",
     "output_type": "stream",
     "text": [
      "Array: [81, 25, 18, 68, 18, 15, 20, 20, 39, 17]\n",
      "Two Smallest Elements: 15 17\n"
     ]
    }
   ],
   "source": [
    "def task4():\n",
    "    array = [random.randint(1, 100) for _ in range(10)]\n",
    "    first_min, second_min = sorted(array)[:2]\n",
    "    print(\"Array:\", array)\n",
    "    print(\"Two Smallest Elements:\", first_min, second_min)\n",
    "\n",
    "task4()"
   ]
  },
  {
   "cell_type": "code",
   "execution_count": 6,
   "metadata": {},
   "outputs": [
    {
     "name": "stdout",
     "output_type": "stream",
     "text": [
      "Array: [798, 121, 884, 89, 769, 872, 989, 998, 333, 615]\n",
      "Sum of All Digits: 177\n"
     ]
    }
   ],
   "source": [
    "def task5():\n",
    "    array = [random.randint(10, 1000) for _ in range(10)]\n",
    "    digit_sum = sum(int(digit) for num in array for digit in str(abs(num)))\n",
    "    print(\"Array:\", array)\n",
    "    print(\"Sum of All Digits:\", digit_sum)\n",
    "task5()"
   ]
  },
  {
   "cell_type": "code",
   "execution_count": 7,
   "metadata": {},
   "outputs": [
    {
     "name": "stdout",
     "output_type": "stream",
     "text": [
      "Array: [43, 33, 33, 11, 37, 41, -1, 37, 0, -6]\n",
      "Average of Positive Elements: 33.57142857142857\n"
     ]
    }
   ],
   "source": [
    "def task6():\n",
    "    array = [random.randint(-50, 50) for _ in range(10)]\n",
    "    positive_elements = [x for x in array if x > 0]\n",
    "    avg_positive = sum(positive_elements) / len(positive_elements) if positive_elements else 0\n",
    "    print(\"Array:\", array)\n",
    "    print(\"Average of Positive Elements:\", avg_positive)\n",
    "task6()"
   ]
  },
  {
   "cell_type": "code",
   "execution_count": 8,
   "metadata": {},
   "outputs": [
    {
     "name": "stdout",
     "output_type": "stream",
     "text": [
      "Modified Array: [8, 13, 71, 68, 61, 59, 4, 56, 39, 40]\n"
     ]
    }
   ],
   "source": [
    "def task7():\n",
    "    array = [random.randint(1, 100) for _ in range(10)]\n",
    "    min_index, max_index = array.index(min(array)), array.index(max(array))\n",
    "    array[min_index], array[max_index] = array[max_index], array[min_index]\n",
    "    print(\"Modified Array:\", array)\n",
    "task7()"
   ]
  },
  {
   "cell_type": "code",
   "execution_count": 9,
   "metadata": {},
   "outputs": [
    {
     "name": "stdout",
     "output_type": "stream",
     "text": [
      "Matrix:\n",
      " [[2 5 2]\n",
      " [7 5 7]\n",
      " [7 2 3]]\n",
      "Sum: 40 Product: 205800 Average: 4.444444444444445\n"
     ]
    }
   ],
   "source": [
    "def task8():\n",
    "    matrix = np.random.randint(1, 10, (3, 3))\n",
    "    total_sum = matrix.sum()\n",
    "    total_product = np.prod(matrix)\n",
    "    avg = matrix.mean()\n",
    "    print(\"Matrix:\\n\", matrix)\n",
    "    print(\"Sum:\", total_sum, \"Product:\", total_product, \"Average:\", avg)\n",
    "task8()\n"
   ]
  },
  {
   "cell_type": "code",
   "execution_count": 10,
   "metadata": {},
   "outputs": [
    {
     "name": "stdout",
     "output_type": "stream",
     "text": [
      "Matrix:\n",
      " [[4 7 3]\n",
      " [5 4 8]\n",
      " [6 3 4]]\n",
      "Sum of Main Diagonal: 12\n"
     ]
    }
   ],
   "source": [
    "def task9():\n",
    "    matrix = np.random.randint(1, 10, (3, 3))\n",
    "    diagonal_sum = np.trace(matrix)\n",
    "    print(\"Matrix:\\n\", matrix)\n",
    "    print(\"Sum of Main Diagonal:\", diagonal_sum)\n",
    "task9()"
   ]
  }
 ],
 "metadata": {
  "kernelspec": {
   "display_name": "Python 3",
   "language": "python",
   "name": "python3"
  },
  "language_info": {
   "codemirror_mode": {
    "name": "ipython",
    "version": 3
   },
   "file_extension": ".py",
   "mimetype": "text/x-python",
   "name": "python",
   "nbconvert_exporter": "python",
   "pygments_lexer": "ipython3",
   "version": "3.13.1"
  }
 },
 "nbformat": 4,
 "nbformat_minor": 2
}
